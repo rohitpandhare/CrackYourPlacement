{
  "nbformat": 4,
  "nbformat_minor": 0,
  "metadata": {
    "colab": {
      "provenance": []
    },
    "kernelspec": {
      "name": "python3",
      "display_name": "Python 3"
    },
    "language_info": {
      "name": "python"
    }
  },
  "cells": [
    {
      "cell_type": "markdown",
      "source": [
        "1) Check Duplicates in an Array\n"
      ],
      "metadata": {
        "id": "_LE3nuvlyL-W"
      }
    },
    {
      "cell_type": "code",
      "execution_count": 3,
      "metadata": {
        "colab": {
          "base_uri": "https://localhost:8080/"
        },
        "id": "ioXPTVe8yFMg",
        "outputId": "8abc0a5f-9bd2-4a49-e27e-79e6975cd439"
      },
      "outputs": [
        {
          "output_type": "stream",
          "name": "stdout",
          "text": [
            "True\n"
          ]
        }
      ],
      "source": [
        "#By Brute force\n",
        "class Solution:\n",
        "  def hasDupicate(self,nums):\n",
        "    for i in range(len(nums)):\n",
        "      for j in range(i+1,len(nums)):\n",
        "        if nums[i] == nums[j]:\n",
        "          return True\n",
        "      return False\n",
        "\n",
        "rp = Solution()\n",
        "nums = [1,2,3,1]\n",
        "print(rp.hasDupicate(nums))"
      ]
    },
    {
      "cell_type": "code",
      "source": [
        "#By sorting\n",
        "class Solution:\n",
        "  def hasDupicate(self,nums):\n",
        "    nums.sort()\n",
        "    for i in range(1,len(nums)):\n",
        "      if nums[i] == nums[i-1]:\n",
        "        return True\n",
        "      return False\n",
        "\n",
        "rp = Solution()\n",
        "nums = [1,2,3,1]\n",
        "print(rp.hasDupicate(nums))"
      ],
      "metadata": {
        "colab": {
          "base_uri": "https://localhost:8080/"
        },
        "id": "CT8fY8umzHV4",
        "outputId": "1272edeb-19ae-4832-e48d-1e01de98ff5b"
      },
      "execution_count": 6,
      "outputs": [
        {
          "output_type": "stream",
          "name": "stdout",
          "text": [
            "True\n"
          ]
        }
      ]
    },
    {
      "cell_type": "code",
      "source": [
        "#by hashset Method\n",
        "class Solution:\n",
        "  def hasDupicate(self,nums):\n",
        "    seen = set()\n",
        "\n",
        "    for n in nums:\n",
        "      if n in seen:\n",
        "        return True\n",
        "      seen.add(n)\n",
        "    return False\n",
        "\n",
        "  rp = Solution()\n",
        "  nums = [1,2,3,1]\n",
        "  print(rp.hasDupicate(nums))"
      ],
      "metadata": {
        "colab": {
          "base_uri": "https://localhost:8080/"
        },
        "id": "mSYiaQAizieF",
        "outputId": "80e8401b-50b9-4f14-f293-9d20ee648485"
      },
      "execution_count": 7,
      "outputs": [
        {
          "output_type": "stream",
          "name": "stdout",
          "text": [
            "True\n"
          ]
        }
      ]
    },
    {
      "cell_type": "code",
      "source": [
        "# hashset length method  --- the set dont have null values\n",
        "class Solution:\n",
        "  def hasDupicate(self,nums):\n",
        "    return len(nums) != len(set(nums))\n",
        "\n",
        "rp = Solution()\n",
        "nums = [1,2,3,1]\n",
        "print(rp.hasDupicate(nums))"
      ],
      "metadata": {
        "colab": {
          "base_uri": "https://localhost:8080/"
        },
        "id": "bpvTdeuV0UrZ",
        "outputId": "a2a28b54-0c26-480a-856b-674e49051c7a"
      },
      "execution_count": 8,
      "outputs": [
        {
          "output_type": "stream",
          "name": "stdout",
          "text": [
            "True\n"
          ]
        }
      ]
    },
    {
      "cell_type": "markdown",
      "source": [
        "2) Valid Anagram"
      ],
      "metadata": {
        "id": "GrSwonFy0uRl"
      }
    },
    {
      "cell_type": "code",
      "source": [
        "#Sorting Method\n",
        "class Solution:\n",
        "  def validAna(self,s,t):\n",
        "    if len(s) != len(t):\n",
        "      return False\n",
        "\n",
        "    return sorted(s) == sorted(t)\n",
        "\n",
        "rp = Solution()\n",
        "s = \"rohit\"\n",
        "t = \"tihor\"\n",
        "print(rp.validAna(s,t))"
      ],
      "metadata": {
        "colab": {
          "base_uri": "https://localhost:8080/"
        },
        "id": "KUuOzAOK05I-",
        "outputId": "d805685b-dcfa-4e54-c7a2-64ecbfe94540"
      },
      "execution_count": 12,
      "outputs": [
        {
          "output_type": "stream",
          "name": "stdout",
          "text": [
            "True\n"
          ]
        }
      ]
    },
    {
      "cell_type": "code",
      "source": [
        "#Hash Table Method\n",
        "# Non-optimal\n",
        "class Solution:\n",
        "  def isValidAna(self,s,t):\n",
        "    if len(s) != len(t):\n",
        "      return False\n",
        "\n",
        "    countS, countT = {}, {}\n",
        "    for i in range(len(s)):\n",
        "      countS[s[i]] = 1 + countS.get(s[i],0)\n",
        "      countT[t[i]] = 1 + countT.get(t[i],0)\n",
        "    return countS == countT\n",
        "\n",
        "rp = Solution()\n",
        "s = \"rohit\"\n",
        "t = \"tihor\"\n",
        "print(rp.isValidAna(s,t))"
      ],
      "metadata": {
        "colab": {
          "base_uri": "https://localhost:8080/"
        },
        "id": "wXU1PMIx2AZ9",
        "outputId": "454db3b6-792f-4a3c-e80b-b531ecea9b69"
      },
      "execution_count": 17,
      "outputs": [
        {
          "output_type": "stream",
          "name": "stdout",
          "text": [
            "True\n"
          ]
        }
      ]
    },
    {
      "cell_type": "code",
      "source": [
        "#optimal method\n",
        "class Solution:\n",
        "  def isValidAna(self,s,t):\n",
        "    if len(s) != len(t):\n",
        "      return False\n",
        "\n",
        "    count = [0] * 26\n",
        "    for i in range(len(s)):\n",
        "      count[ord(s[i]) - ord('a')] += 1\n",
        "      count[ord(t[i]) - ord('a')] -= 1\n",
        "\n",
        "    for val in count:\n",
        "      if val != 0:\n",
        "        return False\n",
        "    return True\n",
        "\n",
        "rp = Solution()\n",
        "s = \"rohit\"\n",
        "t = \"tihor\"\n",
        "print(rp.isValidAna(s,t))"
      ],
      "metadata": {
        "colab": {
          "base_uri": "https://localhost:8080/"
        },
        "id": "pZKISjDy5Zfx",
        "outputId": "8339128e-dee2-447a-f699-848352f11865"
      },
      "execution_count": 18,
      "outputs": [
        {
          "output_type": "stream",
          "name": "stdout",
          "text": [
            "True\n"
          ]
        }
      ]
    }
  ]
}